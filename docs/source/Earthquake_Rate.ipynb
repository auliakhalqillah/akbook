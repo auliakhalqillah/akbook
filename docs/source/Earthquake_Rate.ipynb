{
 "cells": [
  {
   "cell_type": "markdown",
   "metadata": {},
   "source": [
    "**source: [Baker, J., Bradley, B., & Stafford, P. (2021). Seismic hazard and risk analysis. Cambridge University Press., Page 63](https://books.google.co.id/books?hl=en&lr=&id=preiEAAAQBAJ&oi=fnd&pg=PP1&ots=aTA17-0onZ&sig=7EvIKh8fJMcwqXfvVq_6-_x-oOM&redir_esc=y#v=onepage&q&f=false)**\n",
    "\n",
    "A simple fault has some initial information as follows:\n",
    "\n",
    "1. Strike-slip mechanism (dip = 90 degree),\n",
    "2. Fault length of 40 Km,\n",
    "3. Seismogenic depth of 11 Km,\n",
    "4. Occurrence rate of M = 6.7 is 0.02\n",
    "5. Fault slip-rate is 10 mm/year or 0.01 m/year\n",
    "\n",
    "Keep in mind, the rupture rate is calculated by using the following equation\n",
    "\n",
    "$\\lambda(rup) = \\frac {\\dot{\\bar u}} {\\bar u}$\n",
    "\n",
    "where $\\dot{\\bar u}$ is slip rate of fault (in mm/year or m/year) and $\\bar u$ is average displacement. The slip rate and average displacement are obtained from geodetic data. However, the average displacement can be calculated by using seismic moment (geologic) approach or [Wells-Coppersmith's (1994) relationship](https://www.researchgate.net/publication/215755871_New_Empirical_Relationships_among_Magnitude_Rupture_Length_Rupture_Width_Rupture_Area_and_Surface_Displacement).\n",
    "\n",
    "## The Seismic Moment Approach\n",
    "\n",
    "The seismic moment is described through the following equation\n",
    "\n",
    "$M_o = \\mu A \\bar {u}$\n",
    "\n",
    "where the $M_o$ is seismic moment in $Nm$, $\\mu$ is rigidity that equivalent to $3.3 x 10^{10} N/m^2$, $A$ is ruptre area in $m^2$, and $\\bar {u}$ is average displacement in $mm$ or $m$. Then, to calculate the average displacement, the equation become\n",
    "\n",
    "$\\bar {u} = \\frac {M_o} {\\mu A}$\n",
    "\n",
    "Next, we need the rupture area. This value product of length of fault and width of fault. In this case, the width of fault is not be provided. Then, the width of fault is calculated by using [Wells-Coppersmith's (1994) relationship](https://www.researchgate.net/publication/215755871_New_Empirical_Relationships_among_Magnitude_Rupture_Length_Rupture_Width_Rupture_Area_and_Surface_Displacement) for the strike-slip mechanism as follows\n",
    "\n",
    "$log_{10} W = -0.76 + (0.27 M)$\n",
    "\n",
    "$W = 10^{-0.76 + (0.27 M)}$ in $Km$"
   ]
  },
  {
   "cell_type": "code",
   "execution_count": 93,
   "metadata": {},
   "outputs": [],
   "source": [
    "# initial information\n",
    "dip = 90\n",
    "fault_length = 40\n",
    "fault_depth = 11\n",
    "occurrence_rate_obs = 0.02\n",
    "fault_slip_rate = 0.01\n",
    "magnitude = 6.7"
   ]
  },
  {
   "cell_type": "code",
   "execution_count": 94,
   "metadata": {},
   "outputs": [
    {
     "data": {
      "text/plain": [
       "11.19437883467152"
      ]
     },
     "execution_count": 94,
     "metadata": {},
     "output_type": "execute_result"
    }
   ],
   "source": [
    "# Calculate the width of fault\n",
    "fault_width = 10**(-0.76 + (0.27 * magnitude))\n",
    "fault_width"
   ]
  },
  {
   "cell_type": "markdown",
   "metadata": {},
   "source": [
    "Now, we have width of fault approximately of 11.2 Km. Then, the rupture area can be calculated\n",
    "\n",
    "$A = L_{fault} x W_{fault}$"
   ]
  },
  {
   "cell_type": "code",
   "execution_count": 95,
   "metadata": {},
   "outputs": [
    {
     "data": {
      "text/plain": [
       "447.7751533868608"
      ]
     },
     "execution_count": 95,
     "metadata": {},
     "output_type": "execute_result"
    }
   ],
   "source": [
    "A = fault_length * fault_width\n",
    "A # in km^2"
   ]
  },
  {
   "cell_type": "markdown",
   "metadata": {},
   "source": [
    "Next, the $\\bar u$ can be calculated where the $M_o$ uses the relationship of $M_o = 10^{M + 6.03}$"
   ]
  },
  {
   "cell_type": "code",
   "execution_count": 96,
   "metadata": {},
   "outputs": [],
   "source": [
    "A_meter = A * 1000000 # convert to meter-square"
   ]
  },
  {
   "cell_type": "code",
   "execution_count": 97,
   "metadata": {},
   "outputs": [
    {
     "data": {
      "text/plain": [
       "0.8422210055163545"
      ]
     },
     "execution_count": 97,
     "metadata": {},
     "output_type": "execute_result"
    }
   ],
   "source": [
    "mu = 3.3 * (10**10)\n",
    "Mo = 10**(1.5*(magnitude + 6.03))\n",
    "u_bar = Mo / (mu * A_meter)\n",
    "u_bar # in meter"
   ]
  },
  {
   "cell_type": "markdown",
   "metadata": {},
   "source": [
    "We obtained the average displacement is $0.84$ meter. Then, the rupture rate is calculated where the fault slip-rate $\\dot {\\bar {u}}$ is 0.01 m/year"
   ]
  },
  {
   "cell_type": "code",
   "execution_count": 98,
   "metadata": {},
   "outputs": [
    {
     "data": {
      "text/plain": [
       "0.011873368076196501"
      ]
     },
     "execution_count": 98,
     "metadata": {},
     "output_type": "execute_result"
    }
   ],
   "source": [
    "rupture_rate = fault_slip_rate / u_bar\n",
    "rupture_rate"
   ]
  },
  {
   "cell_type": "code",
   "execution_count": 99,
   "metadata": {},
   "outputs": [
    {
     "data": {
      "text/plain": [
       "84.22210055163545"
      ]
     },
     "execution_count": 99,
     "metadata": {},
     "output_type": "execute_result"
    }
   ],
   "source": [
    "recurrence_interval = 1/rupture_rate\n",
    "recurrence_interval"
   ]
  },
  {
   "cell_type": "markdown",
   "metadata": {},
   "source": [
    "This rupture rate is equivalent to $1/\\lambda$ or return period or recurrence interval of $\\approx 84$ years. As we know that, the fault occurrence rate given magnitude of $6.7$ is $0.02$ or equivalent to $50$ years of recurrence interval. The seismic moment approach gives the rupture rate approximately twice than the observe rate.\n",
    "\n",
    "## Wells-Coppersmith's Relationship\n",
    "\n",
    "The Wells-Coppersmith's (1994) has formulated the empericial equation to calculate the average displacement for the strike-slip fault mechanism as follow\n",
    "\n",
    "$log_{10} AD = -6.32 + 0.9 M$\n",
    "\n",
    "This equation has the standard deviation of $\\pm 0.28$"
   ]
  },
  {
   "cell_type": "code",
   "execution_count": 100,
   "metadata": {},
   "outputs": [
    {
     "data": {
      "text/plain": [
       "0.5128613839913648"
      ]
     },
     "execution_count": 100,
     "metadata": {},
     "output_type": "execute_result"
    }
   ],
   "source": [
    "u_bar_wc94 = 10**(-6.32 + (0.9*magnitude))\n",
    "u_bar_wc94"
   ]
  },
  {
   "cell_type": "markdown",
   "metadata": {},
   "source": [
    "Based on this calculation, the average displacement is about $0.5$ meter. Then, We can calculate the rupture rate"
   ]
  },
  {
   "cell_type": "code",
   "execution_count": 101,
   "metadata": {},
   "outputs": [
    {
     "data": {
      "text/plain": [
       "0.019498445997580455"
      ]
     },
     "execution_count": 101,
     "metadata": {},
     "output_type": "execute_result"
    }
   ],
   "source": [
    "rupture_rate_wc94 = fault_slip_rate / u_bar_wc94\n",
    "rupture_rate_wc94"
   ]
  },
  {
   "cell_type": "code",
   "execution_count": 102,
   "metadata": {},
   "outputs": [
    {
     "data": {
      "text/plain": [
       "51.28613839913648"
      ]
     },
     "execution_count": 102,
     "metadata": {},
     "output_type": "execute_result"
    }
   ],
   "source": [
    "recurrence_interval_wc94 = 1/rupture_rate_wc94\n",
    "recurrence_interval_wc94"
   ]
  },
  {
   "cell_type": "markdown",
   "metadata": {},
   "source": [
    "This value is equivalent to recurrence interval or return period $RP = 1/\\lambda$ of 51 years. The deviation from the observe recurrence interval is about 1 year. So, the Wells-Coppersmith's approximation is quite close to the observation. We also can conclude that the earthquake with magnitude 6.7 has occurrence rate of $\\approx 0.02$ by using Wells-Coppersmith's approach and for those fault characterizations that have been mentioned above."
   ]
  }
 ],
 "metadata": {
  "kernelspec": {
   "display_name": "Python 3",
   "language": "python",
   "name": "python3"
  },
  "language_info": {
   "codemirror_mode": {
    "name": "ipython",
    "version": 3
   },
   "file_extension": ".py",
   "mimetype": "text/x-python",
   "name": "python",
   "nbconvert_exporter": "python",
   "pygments_lexer": "ipython3",
   "version": "3.8.10"
  }
 },
 "nbformat": 4,
 "nbformat_minor": 2
}
